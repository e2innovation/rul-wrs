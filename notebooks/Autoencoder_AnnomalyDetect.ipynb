{
  "nbformat": 4,
  "nbformat_minor": 0,
  "metadata": {
    "colab": {
      "name": "Autoencoder-AnnomalyDetect",
      "provenance": [],
      "collapsed_sections": []
    },
    "kernelspec": {
      "name": "python3",
      "display_name": "Python 3"
    },
    "accelerator": "GPU"
  },
  "cells": [
    {
      "cell_type": "markdown",
      "metadata": {
        "id": "T-i64p1XeGsr",
        "colab_type": "text"
      },
      "source": [
        "# **Imports**"
      ]
    },
    {
      "cell_type": "code",
      "metadata": {
        "id": "CxCljooUeLSi",
        "colab_type": "code",
        "outputId": "24c6f4ee-1614-4d53-85f5-eff6adf730fa",
        "colab": {
          "base_uri": "https://localhost:8080/",
          "height": 80
        }
      },
      "source": [
        "#import tensorflow as tf\n",
        "import sklearn\n",
        "import numpy as np # linear algebra\n",
        "import pandas as pd # data processing, CSV file I/O (e.g. pd.read_csv)\n",
        "import nltk\n",
        "from nltk.tokenize import RegexpTokenizer\n",
        "import os\n",
        "from keras.models import Sequential\n",
        "from keras.layers import Dense\n",
        "import keras\n",
        "from keras.wrappers.scikit_learn import KerasClassifier,KerasRegressor\n",
        "import numpy\n",
        "from sklearn.model_selection import RandomizedSearchCV, KFold\n",
        "from sklearn.metrics import make_scorer\n",
        "from keras.layers.core import Dense, Dropout, Flatten\n",
        "from keras.optimizers import SGD\n",
        "from keras.layers import Dropout\n",
        "from sklearn.model_selection import train_test_split"
      ],
      "execution_count": 1,
      "outputs": [
        {
          "output_type": "stream",
          "text": [
            "Using TensorFlow backend.\n"
          ],
          "name": "stderr"
        },
        {
          "output_type": "display_data",
          "data": {
            "text/html": [
              "<p style=\"color: red;\">\n",
              "The default version of TensorFlow in Colab will soon switch to TensorFlow 2.x.<br>\n",
              "We recommend you <a href=\"https://www.tensorflow.org/guide/migrate\" target=\"_blank\">upgrade</a> now \n",
              "or ensure your notebook will continue to use TensorFlow 1.x via the <code>%tensorflow_version 1.x</code> magic:\n",
              "<a href=\"https://colab.research.google.com/notebooks/tensorflow_version.ipynb\" target=\"_blank\">more info</a>.</p>\n"
            ],
            "text/plain": [
              "<IPython.core.display.HTML object>"
            ]
          },
          "metadata": {
            "tags": []
          }
        }
      ]
    },
    {
      "cell_type": "code",
      "metadata": {
        "id": "p3hkln15oV7C",
        "colab_type": "code",
        "outputId": "99180f2b-6d60-42a3-faee-16a973c93cf8",
        "colab": {
          "base_uri": "https://localhost:8080/",
          "height": 122
        }
      },
      "source": [
        "import os\n",
        "from google.colab import drive\n",
        "drive.mount(\"/content/gdrive\")\n",
        "os.chdir('/content/gdrive/My Drive/Cables Palas/model')\n",
        "import utils as utils\n",
        "from utils import *"
      ],
      "execution_count": 2,
      "outputs": [
        {
          "output_type": "stream",
          "text": [
            "Go to this URL in a browser: https://accounts.google.com/o/oauth2/auth?client_id=947318989803-6bn6qk8qdgf4n4g3pfee6491hc0brc4i.apps.googleusercontent.com&redirect_uri=urn%3aietf%3awg%3aoauth%3a2.0%3aoob&response_type=code&scope=email%20https%3a%2f%2fwww.googleapis.com%2fauth%2fdocs.test%20https%3a%2f%2fwww.googleapis.com%2fauth%2fdrive%20https%3a%2f%2fwww.googleapis.com%2fauth%2fdrive.photos.readonly%20https%3a%2f%2fwww.googleapis.com%2fauth%2fpeopleapi.readonly\n",
            "\n",
            "Enter your authorization code:\n",
            "··········\n",
            "Mounted at /content/gdrive\n"
          ],
          "name": "stdout"
        },
        {
          "output_type": "display_data",
          "data": {
            "text/html": [
              "        <script type=\"text/javascript\">\n",
              "        window.PlotlyConfig = {MathJaxConfig: 'local'};\n",
              "        if (window.MathJax) {MathJax.Hub.Config({SVG: {font: \"STIX-Web\"}});}\n",
              "        if (typeof require !== 'undefined') {\n",
              "        require.undef(\"plotly\");\n",
              "        requirejs.config({\n",
              "            paths: {\n",
              "                'plotly': ['https://cdn.plot.ly/plotly-latest.min']\n",
              "            }\n",
              "        });\n",
              "        require(['plotly'], function(Plotly) {\n",
              "            window._Plotly = Plotly;\n",
              "        });\n",
              "        }\n",
              "        </script>\n",
              "        "
            ]
          },
          "metadata": {
            "tags": []
          }
        }
      ]
    },
    {
      "cell_type": "markdown",
      "metadata": {
        "id": "fI3qBhChowyG",
        "colab_type": "text"
      },
      "source": [
        "**Load data/features vector pre-procesed from this -->\n",
        "[notebook](https://colab.research.google.com/drive/1jzXf7IkaFVdYyrG004UjScbkqJLZdXNp)**"
      ]
    },
    {
      "cell_type": "markdown",
      "metadata": {
        "id": "c9snH7qKsSkf",
        "colab_type": "text"
      },
      "source": [
        "\n",
        "*   load Normal cycles\n",
        "\n",
        "\n"
      ]
    },
    {
      "cell_type": "code",
      "metadata": {
        "id": "uqjoBEabIw90",
        "colab_type": "code",
        "colab": {}
      },
      "source": [
        "url=\"normalPoints_PALA1_2018.csv\" \n",
        "df = pd.read_csv(url)"
      ],
      "execution_count": 0,
      "outputs": []
    },
    {
      "cell_type": "code",
      "metadata": {
        "id": "30cyqknFqfB_",
        "colab_type": "code",
        "colab": {}
      },
      "source": [
        "df.drop('id',axis=1,inplace=True)\n"
      ],
      "execution_count": 0,
      "outputs": []
    },
    {
      "cell_type": "code",
      "metadata": {
        "id": "3U-WGwRFtMK7",
        "colab_type": "code",
        "outputId": "56d5b994-6394-4994-8898-b5bb1d4d6a5a",
        "colab": {
          "base_uri": "https://localhost:8080/",
          "height": 34
        }
      },
      "source": [
        "print(f\"Normal count: {len(df)}\")\n"
      ],
      "execution_count": 5,
      "outputs": [
        {
          "output_type": "stream",
          "text": [
            "Normal count: 8871\n"
          ],
          "name": "stdout"
        }
      ]
    },
    {
      "cell_type": "markdown",
      "metadata": {
        "id": "9MSONg_2seBr",
        "colab_type": "text"
      },
      "source": [
        "\n",
        "\n",
        "*   Load Anormal cycles \n",
        "\n"
      ]
    },
    {
      "cell_type": "code",
      "metadata": {
        "id": "6XPPvIPosAxO",
        "colab_type": "code",
        "colab": {}
      },
      "source": [
        "url_abnormal=\"AnormalPoints_PALA1_2018.csv\"\n",
        "df_a=pd.read_csv(url_abnormal)"
      ],
      "execution_count": 0,
      "outputs": []
    },
    {
      "cell_type": "code",
      "metadata": {
        "id": "peTLOGQms-sl",
        "colab_type": "code",
        "colab": {}
      },
      "source": [
        "df_a.drop('id',axis=1,inplace=True)\n"
      ],
      "execution_count": 0,
      "outputs": []
    },
    {
      "cell_type": "code",
      "metadata": {
        "id": "eEbuq7shtOyf",
        "colab_type": "code",
        "outputId": "0e83f236-d84b-456c-f97f-aa7206abde3f",
        "colab": {
          "base_uri": "https://localhost:8080/",
          "height": 34
        }
      },
      "source": [
        "print(f\"Anormal count: {len(df_a)}\")\n"
      ],
      "execution_count": 8,
      "outputs": [
        {
          "output_type": "stream",
          "text": [
            "Anormal count: 860\n"
          ],
          "name": "stdout"
        }
      ]
    },
    {
      "cell_type": "markdown",
      "metadata": {
        "id": "17WSooX7tbwm",
        "colab_type": "text"
      },
      "source": [
        "**This is the numeric feature vector, as it goes to the neural net**"
      ]
    },
    {
      "cell_type": "code",
      "metadata": {
        "id": "EyfLma2ttaEd",
        "colab_type": "code",
        "colab": {}
      },
      "source": [
        "x_normal = df.values\n",
        "x_anomaly = df_a.values"
      ],
      "execution_count": 0,
      "outputs": []
    },
    {
      "cell_type": "code",
      "metadata": {
        "id": "NPUILz85uF20",
        "colab_type": "code",
        "colab": {}
      },
      "source": [
        "x_normal_train, x_normal_test = train_test_split(\n",
        "    x_normal, test_size=0.25, random_state=42)"
      ],
      "execution_count": 0,
      "outputs": []
    },
    {
      "cell_type": "code",
      "metadata": {
        "id": "EMrDEtzU49O1",
        "colab_type": "code",
        "colab": {}
      },
      "source": [
        ""
      ],
      "execution_count": 0,
      "outputs": []
    },
    {
      "cell_type": "markdown",
      "metadata": {
        "id": "FUpGjh_XuUJ_",
        "colab_type": "text"
      },
      "source": [
        "# **Auto Encoders**\n",
        "An auto encoder is a neural network that has the same number of input neurons as it does outputs."
      ]
    },
    {
      "cell_type": "code",
      "metadata": {
        "id": "plskmEmpuTke",
        "colab_type": "code",
        "outputId": "4bf84c14-79c5-4779-9081-914afe7df8bc",
        "colab": {
          "base_uri": "https://localhost:8080/",
          "height": 1000
        }
      },
      "source": [
        "\n",
        "from sklearn import metrics\n",
        "#import numpy as np\n",
        "#import pandas as pd\n",
        "from IPython.display import display, HTML \n",
        "import tensorflow as tf\n",
        "from tensorflow.keras.models import Sequential\n",
        "from tensorflow.keras.layers import Dense, Activation\n",
        "model = Sequential()\n",
        "model.add(Dense(25, input_dim=x_normal.shape[1], activation='relu'))\n",
        "model.add(Dense(3, activation='relu'))\n",
        "model.add(Dense(25, activation='relu'))\n",
        "model.add(Dense(x_normal.shape[1])) # Multiple output neurons\n",
        "model.compile(loss='mean_squared_error', optimizer='adam')\n",
        "model.fit(x_normal_train,x_normal_train,verbose=1,epochs=100)"
      ],
      "execution_count": 11,
      "outputs": [
        {
          "output_type": "stream",
          "text": [
            "WARNING:tensorflow:From /usr/local/lib/python3.6/dist-packages/tensorflow_core/python/ops/resource_variable_ops.py:1630: calling BaseResourceVariable.__init__ (from tensorflow.python.ops.resource_variable_ops) with constraint is deprecated and will be removed in a future version.\n",
            "Instructions for updating:\n",
            "If using Keras pass *_constraint arguments to layers.\n",
            "Train on 6653 samples\n",
            "Epoch 1/100\n",
            "6653/6653 [==============================] - 10s 1ms/sample - loss: 0.0534\n",
            "Epoch 2/100\n",
            "6653/6653 [==============================] - 0s 57us/sample - loss: 0.0087\n",
            "Epoch 3/100\n",
            "6653/6653 [==============================] - 0s 61us/sample - loss: 0.0087\n",
            "Epoch 4/100\n",
            "6653/6653 [==============================] - 0s 61us/sample - loss: 0.0086\n",
            "Epoch 5/100\n",
            "6653/6653 [==============================] - 0s 59us/sample - loss: 0.0086\n",
            "Epoch 6/100\n",
            "6653/6653 [==============================] - 0s 58us/sample - loss: 0.0086\n",
            "Epoch 7/100\n",
            "6653/6653 [==============================] - 0s 62us/sample - loss: 0.0086\n",
            "Epoch 8/100\n",
            "6653/6653 [==============================] - 0s 55us/sample - loss: 0.0086\n",
            "Epoch 9/100\n",
            "6653/6653 [==============================] - 0s 56us/sample - loss: 0.0086\n",
            "Epoch 10/100\n",
            "6653/6653 [==============================] - 0s 64us/sample - loss: 0.0086\n",
            "Epoch 11/100\n",
            "6653/6653 [==============================] - 0s 65us/sample - loss: 0.0075\n",
            "Epoch 12/100\n",
            "6653/6653 [==============================] - 0s 63us/sample - loss: 0.0067\n",
            "Epoch 13/100\n",
            "6653/6653 [==============================] - 0s 57us/sample - loss: 0.0066\n",
            "Epoch 14/100\n",
            "6653/6653 [==============================] - 0s 58us/sample - loss: 0.0066\n",
            "Epoch 15/100\n",
            "6653/6653 [==============================] - 0s 58us/sample - loss: 0.0065\n",
            "Epoch 16/100\n",
            "6653/6653 [==============================] - 0s 57us/sample - loss: 0.0065\n",
            "Epoch 17/100\n",
            "6653/6653 [==============================] - 0s 57us/sample - loss: 0.0065\n",
            "Epoch 18/100\n",
            "6653/6653 [==============================] - 0s 55us/sample - loss: 0.0065\n",
            "Epoch 19/100\n",
            "6653/6653 [==============================] - 0s 66us/sample - loss: 0.0064\n",
            "Epoch 20/100\n",
            "6653/6653 [==============================] - 0s 61us/sample - loss: 0.0064\n",
            "Epoch 21/100\n",
            "6653/6653 [==============================] - 0s 57us/sample - loss: 0.0063\n",
            "Epoch 22/100\n",
            "6653/6653 [==============================] - 0s 60us/sample - loss: 0.0063\n",
            "Epoch 23/100\n",
            "6653/6653 [==============================] - 0s 60us/sample - loss: 0.0063\n",
            "Epoch 24/100\n",
            "6653/6653 [==============================] - 0s 60us/sample - loss: 0.0062\n",
            "Epoch 25/100\n",
            "6653/6653 [==============================] - 1s 75us/sample - loss: 0.0062\n",
            "Epoch 26/100\n",
            "6653/6653 [==============================] - 0s 64us/sample - loss: 0.0062\n",
            "Epoch 27/100\n",
            "6653/6653 [==============================] - 0s 58us/sample - loss: 0.0062\n",
            "Epoch 28/100\n",
            "6653/6653 [==============================] - 0s 59us/sample - loss: 0.0062\n",
            "Epoch 29/100\n",
            "6653/6653 [==============================] - 0s 64us/sample - loss: 0.0061\n",
            "Epoch 30/100\n",
            "6653/6653 [==============================] - 0s 60us/sample - loss: 0.0061\n",
            "Epoch 31/100\n",
            "6653/6653 [==============================] - 0s 65us/sample - loss: 0.0061\n",
            "Epoch 32/100\n",
            "6653/6653 [==============================] - 1s 79us/sample - loss: 0.0061\n",
            "Epoch 33/100\n",
            "6653/6653 [==============================] - 0s 58us/sample - loss: 0.0061\n",
            "Epoch 34/100\n",
            "6653/6653 [==============================] - 0s 63us/sample - loss: 0.0061\n",
            "Epoch 35/100\n",
            "6653/6653 [==============================] - 0s 55us/sample - loss: 0.0061\n",
            "Epoch 36/100\n",
            "6653/6653 [==============================] - 0s 59us/sample - loss: 0.0061\n",
            "Epoch 37/100\n",
            "6653/6653 [==============================] - 0s 60us/sample - loss: 0.0061\n",
            "Epoch 38/100\n",
            "6653/6653 [==============================] - 0s 69us/sample - loss: 0.0060\n",
            "Epoch 39/100\n",
            "6653/6653 [==============================] - 0s 60us/sample - loss: 0.0060\n",
            "Epoch 40/100\n",
            "6653/6653 [==============================] - 0s 54us/sample - loss: 0.0060\n",
            "Epoch 41/100\n",
            "6653/6653 [==============================] - 0s 62us/sample - loss: 0.0060\n",
            "Epoch 42/100\n",
            "6653/6653 [==============================] - 0s 64us/sample - loss: 0.0060\n",
            "Epoch 43/100\n",
            "6653/6653 [==============================] - 0s 61us/sample - loss: 0.0060\n",
            "Epoch 44/100\n",
            "6653/6653 [==============================] - 0s 58us/sample - loss: 0.0060\n",
            "Epoch 45/100\n",
            "6653/6653 [==============================] - 0s 59us/sample - loss: 0.0060\n",
            "Epoch 46/100\n",
            "6653/6653 [==============================] - 0s 56us/sample - loss: 0.0060\n",
            "Epoch 47/100\n",
            "6653/6653 [==============================] - 0s 59us/sample - loss: 0.0060\n",
            "Epoch 48/100\n",
            "6653/6653 [==============================] - 0s 61us/sample - loss: 0.0060\n",
            "Epoch 49/100\n",
            "6653/6653 [==============================] - 0s 65us/sample - loss: 0.0060\n",
            "Epoch 50/100\n",
            "6653/6653 [==============================] - 0s 58us/sample - loss: 0.0059\n",
            "Epoch 51/100\n",
            "6653/6653 [==============================] - 0s 58us/sample - loss: 0.0059\n",
            "Epoch 52/100\n",
            "6653/6653 [==============================] - 0s 58us/sample - loss: 0.0059\n",
            "Epoch 53/100\n",
            "6653/6653 [==============================] - 0s 61us/sample - loss: 0.0059\n",
            "Epoch 54/100\n",
            "6653/6653 [==============================] - 0s 63us/sample - loss: 0.0059\n",
            "Epoch 55/100\n",
            "6653/6653 [==============================] - 0s 56us/sample - loss: 0.0059\n",
            "Epoch 56/100\n",
            "6653/6653 [==============================] - 0s 59us/sample - loss: 0.0059\n",
            "Epoch 57/100\n",
            "6653/6653 [==============================] - 0s 62us/sample - loss: 0.0059\n",
            "Epoch 58/100\n",
            "6653/6653 [==============================] - 0s 64us/sample - loss: 0.0059\n",
            "Epoch 59/100\n",
            "6653/6653 [==============================] - 0s 64us/sample - loss: 0.0059\n",
            "Epoch 60/100\n",
            "6653/6653 [==============================] - 0s 60us/sample - loss: 0.0059\n",
            "Epoch 61/100\n",
            "6653/6653 [==============================] - 0s 59us/sample - loss: 0.0059\n",
            "Epoch 62/100\n",
            "6653/6653 [==============================] - 0s 63us/sample - loss: 0.0058\n",
            "Epoch 63/100\n",
            "6653/6653 [==============================] - 0s 64us/sample - loss: 0.0058\n",
            "Epoch 64/100\n",
            "6653/6653 [==============================] - 0s 63us/sample - loss: 0.0058\n",
            "Epoch 65/100\n",
            "6653/6653 [==============================] - 0s 61us/sample - loss: 0.0058\n",
            "Epoch 66/100\n",
            "6653/6653 [==============================] - 0s 63us/sample - loss: 0.0058\n",
            "Epoch 67/100\n",
            "6653/6653 [==============================] - 0s 62us/sample - loss: 0.0058\n",
            "Epoch 68/100\n",
            "6653/6653 [==============================] - 0s 63us/sample - loss: 0.0058\n",
            "Epoch 69/100\n",
            "6653/6653 [==============================] - 0s 64us/sample - loss: 0.0058\n",
            "Epoch 70/100\n",
            "6653/6653 [==============================] - 0s 63us/sample - loss: 0.0057\n",
            "Epoch 71/100\n",
            "6653/6653 [==============================] - 0s 61us/sample - loss: 0.0057\n",
            "Epoch 72/100\n",
            "6653/6653 [==============================] - 0s 63us/sample - loss: 0.0057\n",
            "Epoch 73/100\n",
            "6653/6653 [==============================] - 0s 63us/sample - loss: 0.0057\n",
            "Epoch 74/100\n",
            "6653/6653 [==============================] - 0s 62us/sample - loss: 0.0057\n",
            "Epoch 75/100\n",
            "6653/6653 [==============================] - 0s 59us/sample - loss: 0.0057\n",
            "Epoch 76/100\n",
            "6653/6653 [==============================] - 0s 61us/sample - loss: 0.0055\n",
            "Epoch 77/100\n",
            "6653/6653 [==============================] - 0s 64us/sample - loss: 0.0053\n",
            "Epoch 78/100\n",
            "6653/6653 [==============================] - 0s 63us/sample - loss: 0.0051\n",
            "Epoch 79/100\n",
            "6653/6653 [==============================] - 0s 62us/sample - loss: 0.0050\n",
            "Epoch 80/100\n",
            "6653/6653 [==============================] - 0s 62us/sample - loss: 0.0050\n",
            "Epoch 81/100\n",
            "6653/6653 [==============================] - 0s 62us/sample - loss: 0.0049\n",
            "Epoch 82/100\n",
            "6653/6653 [==============================] - 0s 60us/sample - loss: 0.0049\n",
            "Epoch 83/100\n",
            "6653/6653 [==============================] - 0s 60us/sample - loss: 0.0048\n",
            "Epoch 84/100\n",
            "6653/6653 [==============================] - 0s 61us/sample - loss: 0.0048\n",
            "Epoch 85/100\n",
            "6653/6653 [==============================] - 0s 61us/sample - loss: 0.0048\n",
            "Epoch 86/100\n",
            "6653/6653 [==============================] - 0s 65us/sample - loss: 0.0048\n",
            "Epoch 87/100\n",
            "6653/6653 [==============================] - 0s 60us/sample - loss: 0.0048\n",
            "Epoch 88/100\n",
            "6653/6653 [==============================] - 0s 66us/sample - loss: 0.0048\n",
            "Epoch 89/100\n",
            "6653/6653 [==============================] - 0s 61us/sample - loss: 0.0048\n",
            "Epoch 90/100\n",
            "6653/6653 [==============================] - 0s 60us/sample - loss: 0.0048\n",
            "Epoch 91/100\n",
            "6653/6653 [==============================] - 0s 60us/sample - loss: 0.0048\n",
            "Epoch 92/100\n",
            "6653/6653 [==============================] - 0s 62us/sample - loss: 0.0048\n",
            "Epoch 93/100\n",
            "6653/6653 [==============================] - 0s 64us/sample - loss: 0.0048\n",
            "Epoch 94/100\n",
            "6653/6653 [==============================] - 0s 59us/sample - loss: 0.0048\n",
            "Epoch 95/100\n",
            "6653/6653 [==============================] - 0s 60us/sample - loss: 0.0048\n",
            "Epoch 96/100\n",
            "6653/6653 [==============================] - 0s 66us/sample - loss: 0.0048\n",
            "Epoch 97/100\n",
            "6653/6653 [==============================] - 0s 73us/sample - loss: 0.0048\n",
            "Epoch 98/100\n",
            "6653/6653 [==============================] - 0s 62us/sample - loss: 0.0048\n",
            "Epoch 99/100\n",
            "6653/6653 [==============================] - 0s 66us/sample - loss: 0.0048\n",
            "Epoch 100/100\n",
            "6653/6653 [==============================] - 0s 64us/sample - loss: 0.0048\n"
          ],
          "name": "stdout"
        },
        {
          "output_type": "execute_result",
          "data": {
            "text/plain": [
              "<tensorflow.python.keras.callbacks.History at 0x7fce7b894128>"
            ]
          },
          "metadata": {
            "tags": []
          },
          "execution_count": 11
        }
      ]
    },
    {
      "cell_type": "markdown",
      "metadata": {
        "id": "yCUYvK4nu9Xh",
        "colab_type": "text"
      },
      "source": [
        "**Testing model**"
      ]
    },
    {
      "cell_type": "code",
      "metadata": {
        "id": "ZPr6TpKzuJbO",
        "colab_type": "code",
        "outputId": "47818f83-ced2-48aa-8693-7a5b7d82df09",
        "colab": {
          "base_uri": "https://localhost:8080/",
          "height": 68
        }
      },
      "source": [
        "pred = model.predict(x_normal_test)\n",
        "score1 = np.sqrt(metrics.mean_squared_error(pred,x_normal_test))\n",
        "pred = model.predict(x_normal)\n",
        "score2 = np.sqrt(metrics.mean_squared_error(pred,x_normal))\n",
        "pred = model.predict(x_anomaly)\n",
        "score3 = np.sqrt(metrics.mean_squared_error(pred,x_anomaly))\n",
        "print(f\"Insample Normal Score (RMSE): {score1}\".format(score1))\n",
        "print(f\"Out of Sample Normal Score (RMSE): {score2}\")\n",
        "print(f\"Anomaly Score (RMSE): {score3}\")"
      ],
      "execution_count": 12,
      "outputs": [
        {
          "output_type": "stream",
          "text": [
            "Insample Normal Score (RMSE): 0.06935237779454187\n",
            "Out of Sample Normal Score (RMSE): 0.0690931963794248\n",
            "Anomaly Score (RMSE): 0.20860817557366318\n"
          ],
          "name": "stdout"
        }
      ]
    },
    {
      "cell_type": "markdown",
      "metadata": {
        "id": "NsyNURNu8UCQ",
        "colab_type": "text"
      },
      "source": [
        "# **Tuning autoencoder architectures** first"
      ]
    },
    {
      "cell_type": "code",
      "metadata": {
        "id": "UcVMq0q8IeZq",
        "colab_type": "code",
        "colab": {}
      },
      "source": [
        "# Function to create model, required \n"
      ],
      "execution_count": 0,
      "outputs": []
    },
    {
      "cell_type": "code",
      "metadata": {
        "id": "FAa3x7nylrII",
        "colab_type": "code",
        "colab": {}
      },
      "source": [
        "def create_model( nl1=1, nl2=1,  nl3=1, \n",
        "                 nn1=1000, nn2=500, nn3 = 200, l1=0.01, l2=0.01,\n",
        "                act = 'relu', dropout=0, input_shape=1000, output_shape=20):\n",
        "    '''This is a model generating function so that we can search over neural net \n",
        "    parameters and architecture'''\n",
        "    \n",
        "    #opt = keras.optimizers.Adam(lr=lr, beta_1=0.9, beta_2=0.999,  decay=decay)\n",
        "    reg = keras.regularizers.l1_l2(l1=l1, l2=l2)\n",
        "                                                     \n",
        "    model = Sequential()\n",
        "    \n",
        "    # for the firt layer we need to specify the input dimensions\n",
        "    first=True\n",
        "    \n",
        "    for i in range(nl1):\n",
        "        if first:\n",
        "            model.add(Dense(nn1, input_dim=input_shape, activation=act, kernel_regularizer=reg))\n",
        "            first=False\n",
        "        else: \n",
        "            model.add(Dense(nn1, activation=act, kernel_regularizer=reg))\n",
        "        if dropout!=0:\n",
        "            model.add(Dropout(dropout))\n",
        "            \n",
        "    for i in range(nl2):\n",
        "        if first:\n",
        "            model.add(Dense(nn2, input_dim=input_shape, activation=act, kernel_regularizer=reg))\n",
        "            first=False\n",
        "        else: \n",
        "            model.add(Dense(nn2, activation=act, kernel_regularizer=reg))\n",
        "        if dropout!=0:\n",
        "            model.add(Dropout(dropout))\n",
        "            \n",
        "    for i in range(nl3):\n",
        "        if first:\n",
        "            model.add(Dense(nn3, input_dim=input_shape, activation=act, kernel_regularizer=reg))\n",
        "            first=False\n",
        "        else: \n",
        "            model.add(Dense(nn3, activation=act, kernel_regularizer=reg))\n",
        "        if dropout!=0:\n",
        "            model.add(Dropout(dropout))\n",
        "            \n",
        "    model.add(Dense(output_shape, activation='sigmoid'))\n",
        "    model.compile(loss='mean_squared_error', optimizer='adam')\n",
        "    return model"
      ],
      "execution_count": 0,
      "outputs": []
    },
    {
      "cell_type": "code",
      "metadata": {
        "id": "0aXY_xXwIlkO",
        "colab_type": "code",
        "colab": {}
      },
      "source": [
        "# model class to use in the scikit random search CV \n",
        "#from keras.wrappers.scikit_learn import KerasClassifier\n",
        "model = KerasRegressor(build_fn=create_model, epochs=10, batch_size=40, verbose=1)"
      ],
      "execution_count": 0,
      "outputs": []
    },
    {
      "cell_type": "code",
      "metadata": {
        "id": "uSOrlig621e9",
        "colab_type": "code",
        "colab": {}
      },
      "source": [
        "# learning algorithm parameters\n",
        "#lr=[1e-2, 1e-3, 1e-4]\n",
        "#decay=[1e-6,1e-9,0]\n",
        "\n",
        "# activation\n",
        "activation=['relu']\n",
        "\n",
        "# numbers of layers\n",
        "nl1 = [1,2]\n",
        "nl2 = [1]\n",
        "nl3 = [1,2]\n",
        "\n",
        "# neurons in each layer as autoencoder\n",
        "nn1=list(range(25,55,5))\n",
        "nn2=list(range(4,14,2))\n",
        "nn3=list(range(25,55,5))\n",
        "\n",
        "# dropout and regularisation\n",
        "dropout = [0]\n",
        "l1 = [0,0.01]\n",
        "l2 = [0]\n",
        "\n",
        "# dictionary summary\n",
        "param_grid = dict(\n",
        "                    nl1=nl1, nl2=nl2, nl3=nl3, nn1=nn1, nn2=nn2, nn3=nn3,\n",
        "                    act=activation, l1=l1, l2=l2, dropout=dropout, \n",
        "                    input_shape=[x_normal_train.shape[1]], output_shape = [x_normal_train.shape[1]],\n",
        "                 )"
      ],
      "execution_count": 0,
      "outputs": []
    },
    {
      "cell_type": "code",
      "metadata": {
        "id": "WGU6HhO9u_rJ",
        "colab_type": "code",
        "outputId": "c4796f5a-88c5-46c5-ce8f-d1ea97f4cd5b",
        "colab": {
          "base_uri": "https://localhost:8080/",
          "height": 1000
        }
      },
      "source": [
        "results_random, estimator_random =search(model, param_grid, x_normal_train, x_normal_train, x_normal_test, x_normal_test, optimizer='random_search', n_iter=1)"
      ],
      "execution_count": 21,
      "outputs": [
        {
          "output_type": "stream",
          "text": [
            "Train on 5322 samples\n",
            "Epoch 1/10\n",
            "5322/5322 [==============================] - 7s 1ms/sample - loss: 0.0293\n",
            "Epoch 2/10\n",
            "5322/5322 [==============================] - 1s 128us/sample - loss: 0.0087\n",
            "Epoch 3/10\n",
            "5322/5322 [==============================] - 1s 149us/sample - loss: 0.0074\n",
            "Epoch 4/10\n",
            "5322/5322 [==============================] - 1s 133us/sample - loss: 0.0069\n",
            "Epoch 5/10\n",
            "5322/5322 [==============================] - 1s 129us/sample - loss: 0.0066\n",
            "Epoch 6/10\n",
            "5322/5322 [==============================] - 1s 130us/sample - loss: 0.0063\n",
            "Epoch 7/10\n",
            "5322/5322 [==============================] - 1s 133us/sample - loss: 0.0061\n",
            "Epoch 8/10\n",
            "5322/5322 [==============================] - 1s 131us/sample - loss: 0.0060\n",
            "Epoch 9/10\n",
            "5322/5322 [==============================] - 1s 130us/sample - loss: 0.0059\n",
            "Epoch 10/10\n",
            "5322/5322 [==============================] - 1s 133us/sample - loss: 0.0057\n",
            "1331/1331 [==============================] - 3s 2ms/sample\n",
            "Train on 5322 samples\n",
            "Epoch 1/10\n",
            "5322/5322 [==============================] - 7s 1ms/sample - loss: 0.0329\n",
            "Epoch 2/10\n",
            "5322/5322 [==============================] - 1s 134us/sample - loss: 0.0088\n",
            "Epoch 3/10\n",
            "5322/5322 [==============================] - 1s 134us/sample - loss: 0.0081\n",
            "Epoch 4/10\n",
            "5322/5322 [==============================] - 1s 148us/sample - loss: 0.0075\n",
            "Epoch 5/10\n",
            "5322/5322 [==============================] - 1s 140us/sample - loss: 0.0070\n",
            "Epoch 6/10\n",
            "5322/5322 [==============================] - 1s 135us/sample - loss: 0.0067\n",
            "Epoch 7/10\n",
            "5322/5322 [==============================] - 1s 133us/sample - loss: 0.0061\n",
            "Epoch 8/10\n",
            "5322/5322 [==============================] - 1s 144us/sample - loss: 0.0055\n",
            "Epoch 9/10\n",
            "5322/5322 [==============================] - 1s 142us/sample - loss: 0.0051\n",
            "Epoch 10/10\n",
            "5322/5322 [==============================] - 1s 131us/sample - loss: 0.0049\n",
            "1331/1331 [==============================] - 3s 2ms/sample\n",
            "Train on 5322 samples\n",
            "Epoch 1/10\n",
            "5322/5322 [==============================] - 7s 1ms/sample - loss: 0.0319\n",
            "Epoch 2/10\n",
            "5322/5322 [==============================] - 1s 132us/sample - loss: 0.0088\n",
            "Epoch 3/10\n",
            "5322/5322 [==============================] - 1s 128us/sample - loss: 0.0082\n",
            "Epoch 4/10\n",
            "5322/5322 [==============================] - 1s 131us/sample - loss: 0.0076\n",
            "Epoch 5/10\n",
            "5322/5322 [==============================] - 1s 134us/sample - loss: 0.0069\n",
            "Epoch 6/10\n",
            "5322/5322 [==============================] - 1s 129us/sample - loss: 0.0063\n",
            "Epoch 7/10\n",
            "5322/5322 [==============================] - 1s 130us/sample - loss: 0.0060\n",
            "Epoch 8/10\n",
            "5322/5322 [==============================] - 1s 130us/sample - loss: 0.0057\n",
            "Epoch 9/10\n",
            "5322/5322 [==============================] - 1s 126us/sample - loss: 0.0055\n",
            "Epoch 10/10\n",
            "5322/5322 [==============================] - 1s 130us/sample - loss: 0.0053\n",
            "1331/1331 [==============================] - 3s 2ms/sample\n",
            "Train on 5323 samples\n",
            "Epoch 1/10\n",
            "5323/5323 [==============================] - 8s 1ms/sample - loss: 0.0273\n",
            "Epoch 2/10\n",
            "5323/5323 [==============================] - 1s 133us/sample - loss: 0.0089\n",
            "Epoch 3/10\n",
            "5323/5323 [==============================] - 1s 133us/sample - loss: 0.0083\n",
            "Epoch 4/10\n",
            "5323/5323 [==============================] - 1s 132us/sample - loss: 0.0071\n",
            "Epoch 5/10\n",
            "5323/5323 [==============================] - 1s 130us/sample - loss: 0.0064\n",
            "Epoch 6/10\n",
            "5323/5323 [==============================] - 1s 131us/sample - loss: 0.0061\n",
            "Epoch 7/10\n",
            "5323/5323 [==============================] - 1s 135us/sample - loss: 0.0060\n",
            "Epoch 8/10\n",
            "5323/5323 [==============================] - 1s 134us/sample - loss: 0.0059\n",
            "Epoch 9/10\n",
            "5323/5323 [==============================] - 1s 129us/sample - loss: 0.0058\n",
            "Epoch 10/10\n",
            "5323/5323 [==============================] - 1s 132us/sample - loss: 0.0058\n",
            "1330/1330 [==============================] - 3s 2ms/sample\n",
            "Train on 5323 samples\n",
            "Epoch 1/10\n",
            "5323/5323 [==============================] - 7s 1ms/sample - loss: 0.0346\n",
            "Epoch 2/10\n",
            "5323/5323 [==============================] - 1s 129us/sample - loss: 0.0091\n",
            "Epoch 3/10\n",
            "5323/5323 [==============================] - 1s 132us/sample - loss: 0.0088\n",
            "Epoch 4/10\n",
            "5323/5323 [==============================] - 1s 133us/sample - loss: 0.0086\n",
            "Epoch 5/10\n",
            "5323/5323 [==============================] - 1s 135us/sample - loss: 0.0084\n",
            "Epoch 6/10\n",
            "5323/5323 [==============================] - 1s 130us/sample - loss: 0.0082\n",
            "Epoch 7/10\n",
            "5323/5323 [==============================] - 1s 131us/sample - loss: 0.0080\n",
            "Epoch 8/10\n",
            "5323/5323 [==============================] - 1s 132us/sample - loss: 0.0078\n",
            "Epoch 9/10\n",
            "5323/5323 [==============================] - 1s 129us/sample - loss: 0.0076\n",
            "Epoch 10/10\n",
            "5323/5323 [==============================] - 1s 136us/sample - loss: 0.0072\n",
            "1330/1330 [==============================] - 3s 2ms/sample\n",
            "Train on 6653 samples\n",
            "Epoch 1/10\n",
            "6653/6653 [==============================] - 8s 1ms/sample - loss: 0.0314\n",
            "Epoch 2/10\n",
            "6653/6653 [==============================] - 1s 131us/sample - loss: 0.0089\n",
            "Epoch 3/10\n",
            "6653/6653 [==============================] - 1s 133us/sample - loss: 0.0080\n",
            "Epoch 4/10\n",
            "6653/6653 [==============================] - 1s 129us/sample - loss: 0.0070\n",
            "Epoch 5/10\n",
            "6653/6653 [==============================] - 1s 128us/sample - loss: 0.0062\n",
            "Epoch 6/10\n",
            "6653/6653 [==============================] - 1s 131us/sample - loss: 0.0056\n",
            "Epoch 7/10\n",
            "6653/6653 [==============================] - 1s 130us/sample - loss: 0.0054\n",
            "Epoch 8/10\n",
            "6653/6653 [==============================] - 1s 130us/sample - loss: 0.0053\n",
            "Epoch 9/10\n",
            "6653/6653 [==============================] - 1s 127us/sample - loss: 0.0052\n",
            "Epoch 10/10\n",
            "6653/6653 [==============================] - 1s 130us/sample - loss: 0.0051\n",
            "Train on 5322 samples\n",
            "Epoch 1/10\n",
            "5322/5322 [==============================] - 7s 1ms/sample - loss: 0.0403\n",
            "Epoch 2/10\n",
            "5322/5322 [==============================] - 1s 131us/sample - loss: 0.0091\n",
            "Epoch 3/10\n",
            "5322/5322 [==============================] - 1s 136us/sample - loss: 0.0087\n",
            "Epoch 4/10\n",
            "5322/5322 [==============================] - 1s 140us/sample - loss: 0.0083\n",
            "Epoch 5/10\n",
            "5322/5322 [==============================] - 1s 136us/sample - loss: 0.0078\n",
            "Epoch 6/10\n",
            "5322/5322 [==============================] - 1s 135us/sample - loss: 0.0072\n",
            "Epoch 7/10\n",
            "5322/5322 [==============================] - 1s 136us/sample - loss: 0.0066\n",
            "Epoch 8/10\n",
            "5322/5322 [==============================] - 1s 134us/sample - loss: 0.0062\n",
            "Epoch 9/10\n",
            "5322/5322 [==============================] - 1s 133us/sample - loss: 0.0060\n",
            "Epoch 10/10\n",
            "5322/5322 [==============================] - 1s 139us/sample - loss: 0.0059\n",
            "1331/1331 [==============================] - 3s 2ms/sample - loss: 0.0057\n",
            "Train on 5322 samples\n",
            "Epoch 1/10\n",
            "5322/5322 [==============================] - 7s 1ms/sample - loss: 0.0335\n",
            "Epoch 2/10\n",
            "5322/5322 [==============================] - 1s 130us/sample - loss: 0.0090\n",
            "Epoch 3/10\n",
            "5322/5322 [==============================] - 1s 150us/sample - loss: 0.0084\n",
            "Epoch 4/10\n",
            "5322/5322 [==============================] - 1s 140us/sample - loss: 0.0073\n",
            "Epoch 5/10\n",
            "5322/5322 [==============================] - 1s 128us/sample - loss: 0.0068\n",
            "Epoch 6/10\n",
            "5322/5322 [==============================] - 1s 137us/sample - loss: 0.0066\n",
            "Epoch 7/10\n",
            "5322/5322 [==============================] - 1s 155us/sample - loss: 0.0063\n",
            "Epoch 8/10\n",
            "5322/5322 [==============================] - 1s 132us/sample - loss: 0.0060\n",
            "Epoch 9/10\n",
            "5322/5322 [==============================] - 1s 130us/sample - loss: 0.0058\n",
            "Epoch 10/10\n",
            "5322/5322 [==============================] - 1s 133us/sample - loss: 0.0056\n",
            "1331/1331 [==============================] - 3s 2ms/sample - loss: 0.0055\n",
            "Train on 5322 samples\n",
            "Epoch 1/10\n",
            "5322/5322 [==============================] - 7s 1ms/sample - loss: 0.0335\n",
            "Epoch 2/10\n",
            "5322/5322 [==============================] - 1s 134us/sample - loss: 0.0087\n",
            "Epoch 3/10\n",
            "5322/5322 [==============================] - 1s 134us/sample - loss: 0.0078\n",
            "Epoch 4/10\n",
            "5322/5322 [==============================] - 1s 135us/sample - loss: 0.0070\n",
            "Epoch 5/10\n",
            "5322/5322 [==============================] - 1s 135us/sample - loss: 0.0068\n",
            "Epoch 6/10\n",
            "5322/5322 [==============================] - 1s 135us/sample - loss: 0.0064\n",
            "Epoch 7/10\n",
            "5322/5322 [==============================] - 1s 137us/sample - loss: 0.0062\n",
            "Epoch 8/10\n",
            "5322/5322 [==============================] - 1s 151us/sample - loss: 0.0061\n",
            "Epoch 9/10\n",
            "5322/5322 [==============================] - 1s 137us/sample - loss: 0.0060\n",
            "Epoch 10/10\n",
            "5322/5322 [==============================] - 1s 130us/sample - loss: 0.0059\n",
            "1331/1331 [==============================] - 3s 2ms/sample - loss: 0.0060\n",
            "Train on 5323 samples\n",
            "Epoch 1/10\n",
            "5323/5323 [==============================] - 8s 1ms/sample - loss: 0.0296\n",
            "Epoch 2/10\n",
            "5323/5323 [==============================] - 1s 141us/sample - loss: 0.0089\n",
            "Epoch 3/10\n",
            "5323/5323 [==============================] - 1s 143us/sample - loss: 0.0084\n",
            "Epoch 4/10\n",
            "5323/5323 [==============================] - 1s 135us/sample - loss: 0.0072\n",
            "Epoch 5/10\n",
            "5323/5323 [==============================] - 1s 135us/sample - loss: 0.0066\n",
            "Epoch 6/10\n",
            "5323/5323 [==============================] - 1s 134us/sample - loss: 0.0064\n",
            "Epoch 7/10\n",
            "5323/5323 [==============================] - 1s 135us/sample - loss: 0.0062\n",
            "Epoch 8/10\n",
            "5323/5323 [==============================] - 1s 132us/sample - loss: 0.0059\n",
            "Epoch 9/10\n",
            "5323/5323 [==============================] - 1s 133us/sample - loss: 0.0055\n",
            "Epoch 10/10\n",
            "5323/5323 [==============================] - 1s 132us/sample - loss: 0.0052\n",
            "1330/1330 [==============================] - 3s 2ms/sample - loss: 0.0051\n",
            "Train on 5323 samples\n",
            "Epoch 1/10\n",
            "5323/5323 [==============================] - 8s 1ms/sample - loss: 0.0315\n",
            "Epoch 2/10\n",
            "5323/5323 [==============================] - 1s 136us/sample - loss: 0.0088\n",
            "Epoch 3/10\n",
            "5323/5323 [==============================] - 1s 133us/sample - loss: 0.0081\n",
            "Epoch 4/10\n",
            "5323/5323 [==============================] - 1s 134us/sample - loss: 0.0070\n",
            "Epoch 5/10\n",
            "5323/5323 [==============================] - 1s 138us/sample - loss: 0.0062\n",
            "Epoch 6/10\n",
            "5323/5323 [==============================] - 1s 135us/sample - loss: 0.0057\n",
            "Epoch 7/10\n",
            "5323/5323 [==============================] - 1s 134us/sample - loss: 0.0053\n",
            "Epoch 8/10\n",
            "5323/5323 [==============================] - 1s 135us/sample - loss: 0.0051\n",
            "Epoch 9/10\n",
            "5323/5323 [==============================] - 1s 136us/sample - loss: 0.0050\n",
            "Epoch 10/10\n",
            "5323/5323 [==============================] - 1s 144us/sample - loss: 0.0049\n",
            "1330/1330 [==============================] - 3s 2ms/sample - loss: 0.0049\n",
            "##### Results\n",
            "Score best parameters:  -0.15136014030101058\n",
            "Best parameters:  {'output_shape': 49, 'nn3': 30, 'nn2': 6, 'nn1': 30, 'nl3': 1, 'nl2': 1, 'nl1': 1, 'l2': 0, 'l1': 0, 'input_shape': 49, 'dropout': 0, 'act': 'relu'}\n",
            "Cross-validation Score:  -0.005428151867278767\n",
            "2218/2218 [==============================] - 3s 1ms/sample - loss: 0.0051\n",
            "Test Score:  -0.005087361044970125\n",
            "Time elapsed:  189.05489802360535\n",
            "Parameter combinations evaluated:  1\n"
          ],
          "name": "stdout"
        }
      ]
    },
    {
      "cell_type": "code",
      "metadata": {
        "id": "bxT3FWJL3LwI",
        "colab_type": "code",
        "colab": {
          "base_uri": "https://localhost:8080/",
          "height": 295
        },
        "outputId": "3ea2125d-4f86-440c-b881-31a608e9eb1b"
      },
      "source": [
        "plot_learning_curve(estimator_random,'autoencoder', x_normal_train, x_normal_train, cv=5, n_jobs=-1)\n",
        "plt.show() "
      ],
      "execution_count": 22,
      "outputs": [
        {
          "output_type": "display_data",
          "data": {
            "image/png": "[encoded data removed]",
            "text/plain": [
              "<Figure size 432x288 with 1 Axes>"
            ]
          },
          "metadata": {
            "tags": []
          }
        }
      ]
    },
    {
      "cell_type": "code",
      "metadata": {
        "id": "Fjo8ywEf33DN",
        "colab_type": "code",
        "colab": {}
      },
      "source": [
        ""
      ],
      "execution_count": 0,
      "outputs": []
    },
    {
      "cell_type": "code",
      "metadata": {
        "id": "PfPWBBkrKldZ",
        "colab_type": "code",
        "colab": {}
      },
      "source": [
        ""
      ],
      "execution_count": 0,
      "outputs": []
    },
    {
      "cell_type": "code",
      "metadata": {
        "id": "RBT0HMNTKmtO",
        "colab_type": "code",
        "colab": {}
      },
      "source": [
        "\n"
      ],
      "execution_count": 0,
      "outputs": []
    },
    {
      "cell_type": "code",
      "metadata": {
        "id": "1PuJdBFIKu-P",
        "colab_type": "code",
        "colab": {}
      },
      "source": [
        ""
      ],
      "execution_count": 0,
      "outputs": []
    },
    {
      "cell_type": "code",
      "metadata": {
        "id": "0uV48YfCLMD4",
        "colab_type": "code",
        "colab": {}
      },
      "source": [
        ""
      ],
      "execution_count": 0,
      "outputs": []
    },
    {
      "cell_type": "code",
      "metadata": {
        "id": "rpMt0KqbLXyj",
        "colab_type": "code",
        "colab": {}
      },
      "source": [
        ""
      ],
      "execution_count": 0,
      "outputs": []
    }
  ]
}